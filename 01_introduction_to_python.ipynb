{
 "cells": [
  {
   "cell_type": "markdown",
   "metadata": {},
   "source": [
    "# Intro to python"
   ]
  },
  {
   "cell_type": "markdown",
   "metadata": {},
   "source": [
    "## Turtle graphics"
   ]
  },
  {
   "cell_type": "code",
   "execution_count": 6,
   "metadata": {},
   "outputs": [],
   "source": [
    "from turtle import *"
   ]
  },
  {
   "cell_type": "code",
   "execution_count": 15,
   "metadata": {},
   "outputs": [],
   "source": [
    "def fractal_tree_color(length, level):\n",
    "    \"\"\"\n",
    "    Draw a fractal tree.\n",
    "    \"\"\"\n",
    "    pensize(length/10)\n",
    "    pencolor('green' if length < 20 else 'brown')\n",
    "    \n",
    "    speed(0)\n",
    "    \n",
    "    if level > 0:\n",
    "        fd(length)\n",
    "        rt(30)\n",
    "        fractal_tree_color(length*0.7, level-1)\n",
    "        lt(90)\n",
    "        fractal_tree_color(length*0.5, level-1)\n",
    "        rt(60)\n",
    "        penup()\n",
    "        bk(length)\n",
    "        pendown()"
   ]
  },
  {
   "cell_type": "code",
   "execution_count": null,
   "metadata": {},
   "outputs": [],
   "source": [
    "fractal_tree_color(100, 9)"
   ]
  },
  {
   "cell_type": "code",
   "execution_count": 22,
   "metadata": {},
   "outputs": [],
   "source": [
    "def plot_side(length, level):\n",
    "        if level == 0:\n",
    "            fd(length)\n",
    "            return\n",
    "        plot_side(length/3, level-1)\n",
    "        lt(90)\n",
    "        plot_side(length/3, level-1)\n",
    "        rt(90)\n",
    "        plot_side(length/3, level-1)\n",
    "        rt(90)\n",
    "        plot_side(length/3, level-1)\n",
    "        lt(90)\n",
    "        plot_side(length/3, level-1)   \n",
    "\n",
    "def koch_square(length, level):\n",
    "    speed(0)\n",
    "    for i in range(4):\n",
    "        plot_side(length, level)\n",
    "        rt(90)    "
   ]
  },
  {
   "cell_type": "code",
   "execution_count": null,
   "metadata": {},
   "outputs": [],
   "source": [
    "koch_square(200, 4)"
   ]
  },
  {
   "cell_type": "markdown",
   "metadata": {},
   "source": [
    "## Solving IDEs"
   ]
  },
  {
   "cell_type": "code",
   "execution_count": 41,
   "metadata": {},
   "outputs": [],
   "source": [
    "from sympy import dsolve, Eq, symbols, Function, exp"
   ]
  },
  {
   "cell_type": "code",
   "execution_count": 36,
   "metadata": {},
   "outputs": [],
   "source": [
    "t = symbols('t')\n",
    "x = symbols('x', cls=Function)"
   ]
  },
  {
   "cell_type": "code",
   "execution_count": 39,
   "metadata": {},
   "outputs": [
    {
     "data": {
      "text/latex": [
       "$\\displaystyle x{\\left(t \\right)} = C_{1} e^{- t} + 1$"
      ],
      "text/plain": [
       "Eq(x(t), C1*exp(-t) + 1)"
      ]
     },
     "execution_count": 39,
     "metadata": {},
     "output_type": "execute_result"
    }
   ],
   "source": [
    "deqn1 = Eq(x(t).diff(t), 1 - x(t))\n",
    "sol1 = dsolve(deqn1, x(t))\n",
    "sol1"
   ]
  },
  {
   "cell_type": "code",
   "execution_count": 40,
   "metadata": {},
   "outputs": [],
   "source": [
    "y = symbols('y', cls=Function)"
   ]
  },
  {
   "cell_type": "code",
   "execution_count": 43,
   "metadata": {},
   "outputs": [
    {
     "data": {
      "text/latex": [
       "$\\displaystyle \\frac{d^{2}}{d t^{2}} y{\\left(t \\right)} = - y{\\left(t \\right)} + e^{t} - \\frac{d}{d t} y{\\left(t \\right)}$"
      ],
      "text/plain": [
       "Eq(Derivative(y(t), (t, 2)), -y(t) + exp(t) - Derivative(y(t), t))"
      ]
     },
     "execution_count": 43,
     "metadata": {},
     "output_type": "execute_result"
    }
   ],
   "source": [
    "deqn2 = Eq(y(t).diff(t, 2), exp(t) -y(t).diff(t) - y(t))\n",
    "deqn2"
   ]
  },
  {
   "cell_type": "code",
   "execution_count": 44,
   "metadata": {},
   "outputs": [
    {
     "data": {
      "text/latex": [
       "$\\displaystyle y{\\left(t \\right)} = \\frac{C_{1} \\sin{\\left(\\frac{\\sqrt{3} t}{2} \\right)} + C_{2} \\cos{\\left(\\frac{\\sqrt{3} t}{2} \\right)}}{\\sqrt{e^{t}}} + \\frac{e^{t}}{3}$"
      ],
      "text/plain": [
       "Eq(y(t), (C1*sin(sqrt(3)*t/2) + C2*cos(sqrt(3)*t/2))/sqrt(exp(t)) + exp(t)/3)"
      ]
     },
     "execution_count": 44,
     "metadata": {},
     "output_type": "execute_result"
    }
   ],
   "source": [
    "sol2 = dsolve(deqn2, y(t))\n",
    "sol2"
   ]
  },
  {
   "cell_type": "code",
   "execution_count": 45,
   "metadata": {},
   "outputs": [],
   "source": [
    "import sympy as sp"
   ]
  },
  {
   "cell_type": "code",
   "execution_count": 46,
   "metadata": {},
   "outputs": [
    {
     "data": {
      "text/latex": [
       "$\\displaystyle \\frac{\\log{\\left(t \\right)} \\sin{\\left(t^{2} \\right)}}{\\sqrt{e^{t^{3}}}}$"
      ],
      "text/plain": [
       "log(t)*sin(t**2)/sqrt(exp(t**3))"
      ]
     },
     "execution_count": 46,
     "metadata": {},
     "output_type": "execute_result"
    }
   ],
   "source": [
    "f = sp.log(t) * sp.sin(t**2) / sp.sqrt(sp.exp(t**3))\n",
    "f"
   ]
  },
  {
   "cell_type": "code",
   "execution_count": 47,
   "metadata": {},
   "outputs": [
    {
     "data": {
      "text/latex": [
       "$\\displaystyle - \\frac{3 t^{2} \\log{\\left(t \\right)} \\sin{\\left(t^{2} \\right)}}{2 \\sqrt{e^{t^{3}}}} + \\frac{2 t \\log{\\left(t \\right)} \\cos{\\left(t^{2} \\right)}}{\\sqrt{e^{t^{3}}}} + \\frac{\\sin{\\left(t^{2} \\right)}}{t \\sqrt{e^{t^{3}}}}$"
      ],
      "text/plain": [
       "-3*t**2*log(t)*sin(t**2)/(2*sqrt(exp(t**3))) + 2*t*log(t)*cos(t**2)/sqrt(exp(t**3)) + sin(t**2)/(t*sqrt(exp(t**3)))"
      ]
     },
     "execution_count": 47,
     "metadata": {},
     "output_type": "execute_result"
    }
   ],
   "source": [
    "f.diff(t)"
   ]
  },
  {
   "cell_type": "code",
   "execution_count": 54,
   "metadata": {},
   "outputs": [
    {
     "data": {
      "text/latex": [
       "$\\displaystyle \\frac{d}{d t} y{\\left(t \\right)} = \\left(- 1.5 t^{2} + \\frac{2 t \\cos{\\left(t^{2} \\right)}}{\\sin{\\left(t^{2} \\right)}} + \\frac{1}{t \\log{\\left(t \\right)}}\\right) y{\\left(t \\right)}$"
      ],
      "text/plain": [
       "Eq(Derivative(y(t), t), (-1.5*t**2 + 2*t*cos(t**2)/sin(t**2) + 1/(t*log(t)))*y(t))"
      ]
     },
     "execution_count": 54,
     "metadata": {},
     "output_type": "execute_result"
    }
   ],
   "source": [
    "eq3 = Eq(\n",
    "    y(t).diff(t), \n",
    "    (- 3/2 * t**2 + 2 * t * sp.cos(t**2) / sp.sin(t**2) + 1 / (t * sp.log(t))) * y(t))\n",
    "eq3"
   ]
  },
  {
   "cell_type": "code",
   "execution_count": 53,
   "metadata": {},
   "outputs": [
    {
     "data": {
      "text/latex": [
       "$\\displaystyle y{\\left(t \\right)} = C_{1} e^{- 0.5 t^{3}} \\log{\\left(t \\right)}^{1.0} \\sin^{1.0}{\\left(t^{2} \\right)}$"
      ],
      "text/plain": [
       "Eq(y(t), C1*exp(-0.5*t**3)*log(t)**1.0*sin(t**2)**1.0)"
      ]
     },
     "execution_count": 53,
     "metadata": {},
     "output_type": "execute_result"
    }
   ],
   "source": [
    "dsolve(\n",
    "    eq3, \n",
    "    y(t))"
   ]
  }
 ],
 "metadata": {
  "kernelspec": {
   "display_name": "Python 3",
   "language": "python",
   "name": "python3"
  },
  "language_info": {
   "codemirror_mode": {
    "name": "ipython",
    "version": 3
   },
   "file_extension": ".py",
   "mimetype": "text/x-python",
   "name": "python",
   "nbconvert_exporter": "python",
   "pygments_lexer": "ipython3",
   "version": "3.7.4"
  }
 },
 "nbformat": 4,
 "nbformat_minor": 4
}
