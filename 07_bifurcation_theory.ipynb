{
 "cells": [
  {
   "cell_type": "markdown",
   "metadata": {},
   "source": [
    "# Bifurcation theory"
   ]
  },
  {
   "cell_type": "code",
   "execution_count": 1,
   "metadata": {},
   "outputs": [],
   "source": [
    "import numpy as np\n",
    "import matplotlib.pyplot as plt\n",
    "import ipywidgets as widgets\n",
    "\n",
    "import phase_space_plotting as psp"
   ]
  },
  {
   "cell_type": "markdown",
   "metadata": {},
   "source": [
    "## Bifurcations on the plane"
   ]
  },
  {
   "cell_type": "markdown",
   "metadata": {},
   "source": [
    "### Saddle-node"
   ]
  },
  {
   "cell_type": "code",
   "execution_count": 40,
   "metadata": {},
   "outputs": [],
   "source": [
    "def saddle_node_bifurcation(mu):\n",
    "    xlim = (-2, 2)\n",
    "    ylim = (-2, 2)\n",
    "\n",
    "    def dx_dt(x, t):\n",
    "        return [mu - x[0]**2, -x[1]]\n",
    "    \n",
    "    fig, ax = plt.subplots(figsize=(8, 4))\n",
    "    if mu >=0:\n",
    "        ax.vlines([-np.sqrt(mu), np.sqrt(mu)], *ylim, linestyle='--', linewidth=1, color='orange')\n",
    "\n",
    "    psp.plot_field(dx_dt, xlim, ylim, scale=50, ax=ax)"
   ]
  },
  {
   "cell_type": "code",
   "execution_count": 39,
   "metadata": {},
   "outputs": [
    {
     "data": {
      "application/vnd.jupyter.widget-view+json": {
       "model_id": "3e782ec6e6df4abeb09945460ef43222",
       "version_major": 2,
       "version_minor": 0
      },
      "text/plain": [
       "interactive(children=(FloatSlider(value=-2.0, description='$\\\\mu$', max=2.0, min=-2.0, step=0.01), Output()), …"
      ]
     },
     "metadata": {},
     "output_type": "display_data"
    }
   ],
   "source": [
    "slider = widgets.FloatSlider(value=-2, min=-2, max=2, step=0.01, description=r'$\\mu$')\n",
    "\n",
    "_ = widgets.interact(saddle_node_bifurcation, mu=slider)"
   ]
  },
  {
   "cell_type": "code",
   "execution_count": 47,
   "metadata": {},
   "outputs": [
    {
     "data": {
      "image/png": "[encoded data removed]",
      "text/plain": [
       "<Figure size 360x360 with 1 Axes>"
      ]
     },
     "metadata": {
      "needs_background": "light"
     },
     "output_type": "display_data"
    }
   ],
   "source": [
    "xlim = (-1, 3)\n",
    "mu = np.linspace(0, 3, 200)\n",
    "x1 = np.sqrt(mu)\n",
    "x2 = -np.sqrt(mu)\n",
    "\n",
    "plt.figure(figsize=(5, 5))\n",
    "plt.xlim(xlim)\n",
    "plt.plot(mu, x1, color='steelblue', linewidth=1)\n",
    "plt.plot(mu, x2, color='steelblue', linewidth=1, linestyle='--')\n",
    "plt.xlabel(r'$\\mu$')\n",
    "plt.ylabel('x')\n",
    "plt.show()"
   ]
  }
 ],
 "metadata": {
  "kernelspec": {
   "display_name": "Python 3",
   "language": "python",
   "name": "python3"
  },
  "language_info": {
   "codemirror_mode": {
    "name": "ipython",
    "version": 3
   },
   "file_extension": ".py",
   "mimetype": "text/x-python",
   "name": "python",
   "nbconvert_exporter": "python",
   "pygments_lexer": "ipython3",
   "version": "3.7.4"
  }
 },
 "nbformat": 4,
 "nbformat_minor": 4
}
