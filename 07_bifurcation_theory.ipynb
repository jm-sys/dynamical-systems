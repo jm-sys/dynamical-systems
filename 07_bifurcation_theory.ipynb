{
 "cells": [
  {
   "cell_type": "markdown",
   "metadata": {},
   "source": [
    "# Bifurcation theory"
   ]
  },
  {
   "cell_type": "code",
   "execution_count": 1,
   "metadata": {},
   "outputs": [],
   "source": [
    "import numpy as np\n",
    "import matplotlib.pyplot as plt\n",
    "import ipywidgets as widgets\n",
    "\n",
    "import phase_space_plotting as psp"
   ]
  },
  {
   "cell_type": "markdown",
   "metadata": {},
   "source": [
    "## Bifurcations on the plane"
   ]
  },
  {
   "cell_type": "markdown",
   "metadata": {},
   "source": [
    "### Saddle-node"
   ]
  },
  {
   "cell_type": "code",
   "execution_count": 2,
   "metadata": {},
   "outputs": [],
   "source": [
    "def saddle_node_bifurcation(mu):\n",
    "    xlim = (-2, 2)\n",
    "    ylim = (-2, 2)\n",
    "\n",
    "    def dx_dt(x, t):\n",
    "        return [mu - x[0]**2, -x[1]]\n",
    "    \n",
    "    fig, ax = plt.subplots(figsize=(8, 4))\n",
    "    if mu >=0:\n",
    "        ax.vlines([-np.sqrt(mu), np.sqrt(mu)], *ylim, linestyle='--', linewidth=1, color='orange')\n",
    "\n",
    "    psp.plot_field(dx_dt, xlim, ylim, scale=50, ax=ax)"
   ]
  },
  {
   "cell_type": "code",
   "execution_count": 3,
   "metadata": {},
   "outputs": [
    {
     "data": {
      "application/vnd.jupyter.widget-view+json": {
       "model_id": "bf35138222b049b49697e366c1d90dfc",
       "version_major": 2,
       "version_minor": 0
      },
      "text/plain": [
       "interactive(children=(FloatSlider(value=-2.0, description='$\\\\mu$', max=2.0, min=-2.0, step=0.01), Output()), …"
      ]
     },
     "metadata": {},
     "output_type": "display_data"
    }
   ],
   "source": [
    "slider = widgets.FloatSlider(value=-2, min=-2, max=2, step=0.01, description=r'$\\mu$')\n",
    "\n",
    "_ = widgets.interact(saddle_node_bifurcation, mu=slider)"
   ]
  },
  {
   "cell_type": "code",
   "execution_count": 4,
   "metadata": {},
   "outputs": [
    {
     "data": {
      "image/png": "[encoded data removed]",
      "text/plain": [
       "<Figure size 360x360 with 1 Axes>"
      ]
     },
     "metadata": {
      "needs_background": "light"
     },
     "output_type": "display_data"
    }
   ],
   "source": [
    "xlim = (-1, 3)\n",
    "mu = np.linspace(0, 3, 200)\n",
    "x1 = np.sqrt(mu)\n",
    "x2 = -np.sqrt(mu)\n",
    "\n",
    "plt.figure(figsize=(5, 5))\n",
    "plt.xlim(xlim)\n",
    "plt.plot(mu, x1, color='steelblue', linewidth=1)\n",
    "plt.plot(mu, x2, color='steelblue', linewidth=1, linestyle='--')\n",
    "plt.xlabel(r'$\\mu$')\n",
    "plt.ylabel('x')\n",
    "plt.show()"
   ]
  },
  {
   "cell_type": "markdown",
   "metadata": {},
   "source": [
    "### Transcritical bifurcation"
   ]
  },
  {
   "cell_type": "code",
   "execution_count": 5,
   "metadata": {},
   "outputs": [],
   "source": [
    "def transcritical_bifurcation(mu):\n",
    "    xlim = (-2, 2)\n",
    "    ylim = (-2, 2)\n",
    "\n",
    "    def dx_dt(x, t):\n",
    "        return [mu*x[0] - x[0]**2, -x[1]]\n",
    "    \n",
    "    fig, ax = plt.subplots(figsize=(8, 4))\n",
    "    ax.vlines([mu, 0], *ylim, linestyle='--', linewidth=1, color='orange')\n",
    "\n",
    "    psp.plot_field(dx_dt, xlim, ylim, scale=50, ax=ax)"
   ]
  },
  {
   "cell_type": "code",
   "execution_count": 6,
   "metadata": {},
   "outputs": [
    {
     "data": {
      "application/vnd.jupyter.widget-view+json": {
       "model_id": "21a8e53e383741edb0b0d2cf3be5e381",
       "version_major": 2,
       "version_minor": 0
      },
      "text/plain": [
       "interactive(children=(FloatSlider(value=-2.0, description='$\\\\mu$', max=2.0, min=-2.0, step=0.01), Output()), …"
      ]
     },
     "metadata": {},
     "output_type": "display_data"
    }
   ],
   "source": [
    "slider = widgets.FloatSlider(value=-2, min=-2, max=2, step=0.01, description=r'$\\mu$')\n",
    "\n",
    "_ = widgets.interact(transcritical_bifurcation, mu=slider)"
   ]
  },
  {
   "cell_type": "code",
   "execution_count": 7,
   "metadata": {},
   "outputs": [
    {
     "data": {
      "image/png": "[encoded data removed]",
      "text/plain": [
       "<Figure size 360x360 with 1 Axes>"
      ]
     },
     "metadata": {
      "needs_background": "light"
     },
     "output_type": "display_data"
    }
   ],
   "source": [
    "xlim = (-1, 2)\n",
    "mu = np.linspace(-1, 2, 200)\n",
    "x1 = np.where(mu < 0, 0, mu)\n",
    "x2 = np.where(mu >= 0, 0, mu)\n",
    "\n",
    "plt.figure(figsize=(5, 5))\n",
    "plt.xlim(xlim)\n",
    "plt.plot(mu, x1, color='steelblue', linewidth=1)\n",
    "plt.plot(mu, x2, color='steelblue', linewidth=1, linestyle='--')\n",
    "plt.xlabel(r'$\\mu$')\n",
    "plt.ylabel('x')\n",
    "plt.show()"
   ]
  },
  {
   "cell_type": "markdown",
   "metadata": {},
   "source": [
    "### Pitchfork bifurcation"
   ]
  },
  {
   "cell_type": "code",
   "execution_count": 8,
   "metadata": {},
   "outputs": [],
   "source": [
    "def pitchfork_bifurcation(mu):\n",
    "    xlim = (-2, 2)\n",
    "    ylim = (-2, 2)\n",
    "\n",
    "    def dx_dt(x, t):\n",
    "        return [mu*x[0] - x[0]**3, -x[1]]\n",
    "    \n",
    "    fig, ax = plt.subplots(figsize=(8, 4))\n",
    "    \n",
    "    ax.vlines([0], *ylim, linestyle='--', linewidth=1, color='orange')\n",
    "    if mu >=0:\n",
    "        ax.vlines([-np.sqrt(mu), np.sqrt(mu)], *ylim, linestyle='--', linewidth=1, color='orange')\n",
    "\n",
    "    psp.plot_field(dx_dt, xlim, ylim, scale=50, ax=ax)"
   ]
  },
  {
   "cell_type": "code",
   "execution_count": 9,
   "metadata": {},
   "outputs": [
    {
     "data": {
      "application/vnd.jupyter.widget-view+json": {
       "model_id": "c8deb4b066854b29b10c7ff04130014d",
       "version_major": 2,
       "version_minor": 0
      },
      "text/plain": [
       "interactive(children=(FloatSlider(value=-2.0, description='$\\\\mu$', max=2.0, min=-2.0, step=0.01), Output()), …"
      ]
     },
     "metadata": {},
     "output_type": "display_data"
    }
   ],
   "source": [
    "slider = widgets.FloatSlider(value=-2, min=-2, max=2, step=0.01, description=r'$\\mu$')\n",
    "\n",
    "_ = widgets.interact(pitchfork_bifurcation, mu=slider)"
   ]
  },
  {
   "cell_type": "code",
   "execution_count": 10,
   "metadata": {},
   "outputs": [
    {
     "data": {
      "image/png": "[encoded data removed]",
      "text/plain": [
       "<Figure size 360x360 with 1 Axes>"
      ]
     },
     "metadata": {
      "needs_background": "light"
     },
     "output_type": "display_data"
    }
   ],
   "source": [
    "xlim = (-1, 2)\n",
    "mu = np.linspace(-1, 2, 200)\n",
    "x1 = np.where(mu < 0, 0, np.sqrt(np.abs(mu)))\n",
    "x2 = np.where(mu > 0, -np.sqrt(np.abs(mu)), 0)\n",
    "x3 = np.zeros_like(mu[mu>0])\n",
    "\n",
    "plt.figure(figsize=(5, 5))\n",
    "plt.xlim(xlim)\n",
    "plt.plot(mu, x1, color='steelblue', linewidth=1)\n",
    "plt.plot(mu, x2, color='steelblue', linewidth=1)\n",
    "plt.plot(mu[mu>0], x3, color='steelblue', linewidth=1, linestyle='--')\n",
    "plt.xlabel(r'$\\mu$')\n",
    "plt.ylabel('x')\n",
    "plt.show()"
   ]
  },
  {
   "cell_type": "markdown",
   "metadata": {},
   "source": [
    "### Hopf bifurcation"
   ]
  },
  {
   "cell_type": "code",
   "execution_count": 32,
   "metadata": {},
   "outputs": [
    {
     "data": {
      "application/vnd.jupyter.widget-view+json": {
       "model_id": "d3ecee6a02ef47b78c89ef9b05a77dba",
       "version_major": 2,
       "version_minor": 0
      },
      "text/plain": [
       "interactive(children=(FloatSlider(value=-2.0, description='$\\\\mu$', max=2.0, min=-2.0, step=0.01), Output()), …"
      ]
     },
     "metadata": {},
     "output_type": "display_data"
    }
   ],
   "source": [
    "def hopf_bifurcation(mu):\n",
    "    xlim = (0, 2*np.pi)\n",
    "    ylim = (0, 2)\n",
    "\n",
    "    def dx_dt(x, t):\n",
    "        return [-1, x[1]*(mu - x[1]**2)]\n",
    "\n",
    "    fig = plt.figure(figsize=(6, 6))\n",
    "    ax = fig.add_subplot(111, projection='polar')\n",
    "    psp.plot_traj([np.pi / 2, 1], dx_dt, fw=20, bw=0.1, n_time_samples=200, ax=ax)\n",
    "    psp.plot_traj([-np.pi / 2, 0.5], dx_dt, fw=20, bw=0.3, n_time_samples=200, ax=ax)\n",
    "\n",
    "    psp.plot_field(dx_dt, xlim, ylim, scale=200, ax=ax, polar=True, density=30j)\n",
    "\n",
    "    ax.set_xlim(xlim)\n",
    "    ax.set_ylim(np.array(ylim) * 1.1)\n",
    "\n",
    "    plt.show()\n",
    "    \n",
    "slider = widgets.FloatSlider(value=-2, min=-2, max=2, step=0.01, description=r'$\\mu$')\n",
    "\n",
    "_ = widgets.interact(hopf_bifurcation, mu=slider)"
   ]
  }
 ],
 "metadata": {
  "kernelspec": {
   "display_name": "Python 3",
   "language": "python",
   "name": "python3"
  },
  "language_info": {
   "codemirror_mode": {
    "name": "ipython",
    "version": 3
   },
   "file_extension": ".py",
   "mimetype": "text/x-python",
   "name": "python",
   "nbconvert_exporter": "python",
   "pygments_lexer": "ipython3",
   "version": "3.7.4"
  }
 },
 "nbformat": 4,
 "nbformat_minor": 4
}
